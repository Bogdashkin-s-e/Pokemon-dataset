{
 "cells": [
  {
   "cell_type": "markdown",
   "id": "ab3d6964",
   "metadata": {},
   "source": [
    "**<span style=\"color:green\">**Метаданные (наименование поля - краткое описание - тип):**</span>**  \n",
    "* <span style=\"color:green\">#:</span> порядковый номер - int64\n",
    "* <span style=\"color:green\">Name:</span> имя покемона - object\n",
    "* <span style=\"color:green\">Type 1:</span> тип покемона - object\n",
    "* <span style=\"color:green\">Type 2:</span> второй тип для покемонов двойного типа, или n/a для покемонов одинарного типа- object\n",
    "* <span style=\"color:green\">Total:</span> сумма всех характеристик - int64\n",
    "* <span style=\"color:green\">HP:</span> здоровье - int64\n",
    "* <span style=\"color:green\">Attack:</span> сила атаки - int64\n",
    "* <span style=\"color:green\">Defense:</span> сила защиты - int64\n",
    "* <span style=\"color:green\">SP Atk:</span> сила специальной атаки - int64\n",
    "* <span style=\"color:green\">SP Def:</span> сила специальной защиты - int64\n",
    "* <span style=\"color:green\">Speed:</span> скорость- int64\n",
    "* <span style=\"color:green\">Generation:</span> поколение - int64\n",
    "* <span style=\"color:green\">Legendary:</span> легендарный или обычный (true, если легендарный) - bool"
   ]
  },
  {
   "cell_type": "markdown",
   "id": "49800903",
   "metadata": {},
   "source": [
    "\n",
    "**<span style=\"color: blue;\">Необходимо проанализировать данные и ответить на вопросы:</span>**\n",
    "\n",
    "<span style=\"color:blue\">1.</span>  Сколько % покемонов имеет двойной тип?  \n",
    "<span style=\"color:blue\">2.</span> Сколько всего типов покемонов и какими они бывают?  \n",
    "<span style=\"color:blue\">3.</span> У кого лучше общие показатели (Total): у покемонов двойного или одинарного типа?  \n",
    "<span style=\"color:blue\">4.</span> У кого лучше средний показатель Защита (Defense): у покемонов типа Grass или у покемонов типа Fairy? (покемоны двойного типа учитываются)  \n",
    "<span style=\"color:blue\">5.</span> Мы полагаем, что среднестатистический легендарный покемон должен быть сильнее, чем среднестатистический нелегендарный. Подтвердите или опровергните это предположение.  \n",
    "<span style=\"color:blue\">6.</span> Покажите все случаи (пары покемонов), когда легендарный покемон по показателю Total оказался слабее, чем нелегендарный. Сколько таких случаев?  \n",
    "<span style=\"color:blue\">7.</span> Для каждой пары, в которой нелегендарный покемон оказывается сильнее легендарного посчитайте разницу в показателе Total. Постройте гистограму полученной величины. Похоже ли распределение на нормальное? Рассчитайте среднее арифметическое, медиану и моду данной величины.  \n",
    "<span style=\"color:blue\">8.</span> Назовите две характеристики покемонов, которые коррелируют в наименьшей степени.  \n",
    "<span style=\"color:blue\">9.</span> Что делает покемона легендарным, кроме суммы характеристик? Важнее сила атаки или сила защиты, а может сила специальной атаки или сила специальной защиты, или скорость, или здоровье? А может важна уникальность типа или поколение покемона? Подкрепите свое мнение расчетами.  "
   ]
  },
  {
   "cell_type": "code",
   "execution_count": 130,
   "id": "223e8953",
   "metadata": {},
   "outputs": [],
   "source": [
    "import pandas as pd\n",
    "import numpy as np\n",
    "import matplotlib.pyplot as plt\n",
    "import seaborn as sns"
   ]
  },
  {
   "cell_type": "code",
   "execution_count": 131,
   "id": "b9b347c3",
   "metadata": {},
   "outputs": [],
   "source": [
    "file_path = '/home/sergey/Desktop/Analytics/Pokemon.csv'"
   ]
  },
  {
   "cell_type": "code",
   "execution_count": 132,
   "id": "b14d34b8",
   "metadata": {},
   "outputs": [
    {
     "name": "stdout",
     "output_type": "stream",
     "text": [
      "<class 'pandas.core.frame.DataFrame'>\n",
      "Index: 800 entries, 0 to 799\n",
      "Data columns (total 13 columns):\n",
      " #   Column      Non-Null Count  Dtype \n",
      "---  ------      --------------  ----- \n",
      " 0   #           800 non-null    int64 \n",
      " 1   Name        800 non-null    object\n",
      " 2   Type 1      800 non-null    object\n",
      " 3   Type 2      414 non-null    object\n",
      " 4   Total       800 non-null    int64 \n",
      " 5   HP          800 non-null    int64 \n",
      " 6   Attack      800 non-null    int64 \n",
      " 7   Defense     800 non-null    int64 \n",
      " 8   Sp. Atk     800 non-null    int64 \n",
      " 9   Sp. Def     800 non-null    int64 \n",
      " 10  Speed       800 non-null    int64 \n",
      " 11  Generation  800 non-null    int64 \n",
      " 12  Legendary   800 non-null    bool  \n",
      "dtypes: bool(1), int64(9), object(3)\n",
      "memory usage: 82.0+ KB\n"
     ]
    }
   ],
   "source": [
    "df = pd.read_csv(file_path, index_col= 0)\n",
    "df.info()"
   ]
  },
  {
   "cell_type": "code",
   "execution_count": 133,
   "id": "958596bb",
   "metadata": {},
   "outputs": [
    {
     "data": {
      "text/html": [
       "<div>\n",
       "<style scoped>\n",
       "    .dataframe tbody tr th:only-of-type {\n",
       "        vertical-align: middle;\n",
       "    }\n",
       "\n",
       "    .dataframe tbody tr th {\n",
       "        vertical-align: top;\n",
       "    }\n",
       "\n",
       "    .dataframe thead th {\n",
       "        text-align: right;\n",
       "    }\n",
       "</style>\n",
       "<table border=\"1\" class=\"dataframe\">\n",
       "  <thead>\n",
       "    <tr style=\"text-align: right;\">\n",
       "      <th></th>\n",
       "      <th>#</th>\n",
       "      <th>Name</th>\n",
       "      <th>Type 1</th>\n",
       "      <th>Type 2</th>\n",
       "      <th>Total</th>\n",
       "      <th>HP</th>\n",
       "      <th>Attack</th>\n",
       "      <th>Defense</th>\n",
       "      <th>Sp. Atk</th>\n",
       "      <th>Sp. Def</th>\n",
       "      <th>Speed</th>\n",
       "      <th>Generation</th>\n",
       "      <th>Legendary</th>\n",
       "    </tr>\n",
       "  </thead>\n",
       "  <tbody>\n",
       "    <tr>\n",
       "      <th>0</th>\n",
       "      <td>1</td>\n",
       "      <td>Bulbasaur</td>\n",
       "      <td>Grass</td>\n",
       "      <td>Poison</td>\n",
       "      <td>318</td>\n",
       "      <td>45</td>\n",
       "      <td>49</td>\n",
       "      <td>49</td>\n",
       "      <td>65</td>\n",
       "      <td>65</td>\n",
       "      <td>45</td>\n",
       "      <td>1</td>\n",
       "      <td>False</td>\n",
       "    </tr>\n",
       "    <tr>\n",
       "      <th>1</th>\n",
       "      <td>2</td>\n",
       "      <td>Ivysaur</td>\n",
       "      <td>Grass</td>\n",
       "      <td>Poison</td>\n",
       "      <td>405</td>\n",
       "      <td>60</td>\n",
       "      <td>62</td>\n",
       "      <td>63</td>\n",
       "      <td>80</td>\n",
       "      <td>80</td>\n",
       "      <td>60</td>\n",
       "      <td>1</td>\n",
       "      <td>False</td>\n",
       "    </tr>\n",
       "    <tr>\n",
       "      <th>2</th>\n",
       "      <td>3</td>\n",
       "      <td>Venusaur</td>\n",
       "      <td>Grass</td>\n",
       "      <td>Poison</td>\n",
       "      <td>525</td>\n",
       "      <td>80</td>\n",
       "      <td>82</td>\n",
       "      <td>83</td>\n",
       "      <td>100</td>\n",
       "      <td>100</td>\n",
       "      <td>80</td>\n",
       "      <td>1</td>\n",
       "      <td>False</td>\n",
       "    </tr>\n",
       "    <tr>\n",
       "      <th>3</th>\n",
       "      <td>3</td>\n",
       "      <td>VenusaurMega Venusaur</td>\n",
       "      <td>Grass</td>\n",
       "      <td>Poison</td>\n",
       "      <td>625</td>\n",
       "      <td>80</td>\n",
       "      <td>100</td>\n",
       "      <td>123</td>\n",
       "      <td>122</td>\n",
       "      <td>120</td>\n",
       "      <td>80</td>\n",
       "      <td>1</td>\n",
       "      <td>False</td>\n",
       "    </tr>\n",
       "    <tr>\n",
       "      <th>4</th>\n",
       "      <td>4</td>\n",
       "      <td>Charmander</td>\n",
       "      <td>Fire</td>\n",
       "      <td>NaN</td>\n",
       "      <td>309</td>\n",
       "      <td>39</td>\n",
       "      <td>52</td>\n",
       "      <td>43</td>\n",
       "      <td>60</td>\n",
       "      <td>50</td>\n",
       "      <td>65</td>\n",
       "      <td>1</td>\n",
       "      <td>False</td>\n",
       "    </tr>\n",
       "  </tbody>\n",
       "</table>\n",
       "</div>"
      ],
      "text/plain": [
       "   #                   Name Type 1  Type 2  Total  HP  Attack  Defense  \\\n",
       "0  1              Bulbasaur  Grass  Poison    318  45      49       49   \n",
       "1  2                Ivysaur  Grass  Poison    405  60      62       63   \n",
       "2  3               Venusaur  Grass  Poison    525  80      82       83   \n",
       "3  3  VenusaurMega Venusaur  Grass  Poison    625  80     100      123   \n",
       "4  4             Charmander   Fire     NaN    309  39      52       43   \n",
       "\n",
       "   Sp. Atk  Sp. Def  Speed  Generation  Legendary  \n",
       "0       65       65     45           1      False  \n",
       "1       80       80     60           1      False  \n",
       "2      100      100     80           1      False  \n",
       "3      122      120     80           1      False  \n",
       "4       60       50     65           1      False  "
      ]
     },
     "execution_count": 133,
     "metadata": {},
     "output_type": "execute_result"
    }
   ],
   "source": [
    "df.head()"
   ]
  },
  {
   "cell_type": "markdown",
   "id": "1a1f8779",
   "metadata": {},
   "source": [
    "# 1. Сколько % покемонов имеет двойной тип?"
   ]
  },
  {
   "cell_type": "code",
   "execution_count": 134,
   "id": "c4e4f5a0",
   "metadata": {},
   "outputs": [
    {
     "name": "stdout",
     "output_type": "stream",
     "text": [
      "51.75% покемонов имеет двойной тип.\n"
     ]
    }
   ],
   "source": [
    "dual = df['Type 2'].count()\n",
    "total = len(df)\n",
    "print(f'{round((dual/total) * 100, 2)}% покемонов имеет двойной тип.')"
   ]
  },
  {
   "cell_type": "markdown",
   "id": "7b63857d",
   "metadata": {},
   "source": [
    "# 2. Сколько всего типов покемонов и какими они бывают?"
   ]
  },
  {
   "cell_type": "code",
   "execution_count": 135,
   "id": "8f3c6de2",
   "metadata": {},
   "outputs": [
    {
     "data": {
      "text/plain": [
       "Type 1    18\n",
       "Type 2    18\n",
       "dtype: int64"
      ]
     },
     "execution_count": 135,
     "metadata": {},
     "output_type": "execute_result"
    }
   ],
   "source": [
    "df[['Type 1', 'Type 2']].nunique()"
   ]
  },
  {
   "cell_type": "markdown",
   "id": "13498343",
   "metadata": {},
   "source": [
    "Получаем из таблицы подсчёт уникальных типов в столбцах Type 1 и Type 2, но важно учесть возможные особые случаи, когда в одном столбце могут быть типы, которые не фигурируют в другом."
   ]
  },
  {
   "cell_type": "code",
   "execution_count": 136,
   "id": "9e94b4a1",
   "metadata": {},
   "outputs": [
    {
     "name": "stdout",
     "output_type": "stream",
     "text": [
      "Всего 18 типов покемонов: Bug, Dark, Dragon, Electric, Fairy, Fighting, Fire, Flying, Ghost, Grass, Ground, Ice, Normal, Poison, Psychic, Rock, Steel, Water.\n"
     ]
    }
   ],
   "source": [
    "Pokemon_type = (df.groupby('Type 2')['Type 2'].count()) + (df.groupby('Type 1')['Type 1'].count())\n",
    "#Получили в совокупности подсчёт всех типов покемонов, значащихся в обоих столбцах\n",
    "print(f'Всего {len(Pokemon_type.index)} типов покемонов: {\", \".join(Pokemon_type.index)}.')"
   ]
  },
  {
   "cell_type": "markdown",
   "id": "2240a30e",
   "metadata": {},
   "source": [
    "# 3. У кого лучше общие показатели (Total): у покемонов двойного или одинарного типа?"
   ]
  },
  {
   "cell_type": "markdown",
   "id": "c5609abb",
   "metadata": {},
   "source": [
    "Создадим отдельную колонку с флагом, которая будет отражать, относится ли покемон к двойному типу:"
   ]
  },
  {
   "cell_type": "code",
   "execution_count": 137,
   "id": "dd8db45e",
   "metadata": {},
   "outputs": [
    {
     "data": {
      "text/html": [
       "<div>\n",
       "<style scoped>\n",
       "    .dataframe tbody tr th:only-of-type {\n",
       "        vertical-align: middle;\n",
       "    }\n",
       "\n",
       "    .dataframe tbody tr th {\n",
       "        vertical-align: top;\n",
       "    }\n",
       "\n",
       "    .dataframe thead th {\n",
       "        text-align: right;\n",
       "    }\n",
       "</style>\n",
       "<table border=\"1\" class=\"dataframe\">\n",
       "  <thead>\n",
       "    <tr style=\"text-align: right;\">\n",
       "      <th></th>\n",
       "      <th>#</th>\n",
       "      <th>Name</th>\n",
       "      <th>Type 1</th>\n",
       "      <th>Type 2</th>\n",
       "      <th>Total</th>\n",
       "      <th>HP</th>\n",
       "      <th>Attack</th>\n",
       "      <th>Defense</th>\n",
       "      <th>Sp. Atk</th>\n",
       "      <th>Sp. Def</th>\n",
       "      <th>Speed</th>\n",
       "      <th>Generation</th>\n",
       "      <th>Legendary</th>\n",
       "      <th>Dual</th>\n",
       "    </tr>\n",
       "  </thead>\n",
       "  <tbody>\n",
       "    <tr>\n",
       "      <th>0</th>\n",
       "      <td>1</td>\n",
       "      <td>Bulbasaur</td>\n",
       "      <td>Grass</td>\n",
       "      <td>Poison</td>\n",
       "      <td>318</td>\n",
       "      <td>45</td>\n",
       "      <td>49</td>\n",
       "      <td>49</td>\n",
       "      <td>65</td>\n",
       "      <td>65</td>\n",
       "      <td>45</td>\n",
       "      <td>1</td>\n",
       "      <td>False</td>\n",
       "      <td>True</td>\n",
       "    </tr>\n",
       "    <tr>\n",
       "      <th>1</th>\n",
       "      <td>2</td>\n",
       "      <td>Ivysaur</td>\n",
       "      <td>Grass</td>\n",
       "      <td>Poison</td>\n",
       "      <td>405</td>\n",
       "      <td>60</td>\n",
       "      <td>62</td>\n",
       "      <td>63</td>\n",
       "      <td>80</td>\n",
       "      <td>80</td>\n",
       "      <td>60</td>\n",
       "      <td>1</td>\n",
       "      <td>False</td>\n",
       "      <td>True</td>\n",
       "    </tr>\n",
       "    <tr>\n",
       "      <th>2</th>\n",
       "      <td>3</td>\n",
       "      <td>Venusaur</td>\n",
       "      <td>Grass</td>\n",
       "      <td>Poison</td>\n",
       "      <td>525</td>\n",
       "      <td>80</td>\n",
       "      <td>82</td>\n",
       "      <td>83</td>\n",
       "      <td>100</td>\n",
       "      <td>100</td>\n",
       "      <td>80</td>\n",
       "      <td>1</td>\n",
       "      <td>False</td>\n",
       "      <td>True</td>\n",
       "    </tr>\n",
       "    <tr>\n",
       "      <th>3</th>\n",
       "      <td>3</td>\n",
       "      <td>VenusaurMega Venusaur</td>\n",
       "      <td>Grass</td>\n",
       "      <td>Poison</td>\n",
       "      <td>625</td>\n",
       "      <td>80</td>\n",
       "      <td>100</td>\n",
       "      <td>123</td>\n",
       "      <td>122</td>\n",
       "      <td>120</td>\n",
       "      <td>80</td>\n",
       "      <td>1</td>\n",
       "      <td>False</td>\n",
       "      <td>True</td>\n",
       "    </tr>\n",
       "    <tr>\n",
       "      <th>4</th>\n",
       "      <td>4</td>\n",
       "      <td>Charmander</td>\n",
       "      <td>Fire</td>\n",
       "      <td>NaN</td>\n",
       "      <td>309</td>\n",
       "      <td>39</td>\n",
       "      <td>52</td>\n",
       "      <td>43</td>\n",
       "      <td>60</td>\n",
       "      <td>50</td>\n",
       "      <td>65</td>\n",
       "      <td>1</td>\n",
       "      <td>False</td>\n",
       "      <td>False</td>\n",
       "    </tr>\n",
       "    <tr>\n",
       "      <th>5</th>\n",
       "      <td>5</td>\n",
       "      <td>Charmeleon</td>\n",
       "      <td>Fire</td>\n",
       "      <td>NaN</td>\n",
       "      <td>405</td>\n",
       "      <td>58</td>\n",
       "      <td>64</td>\n",
       "      <td>58</td>\n",
       "      <td>80</td>\n",
       "      <td>65</td>\n",
       "      <td>80</td>\n",
       "      <td>1</td>\n",
       "      <td>False</td>\n",
       "      <td>False</td>\n",
       "    </tr>\n",
       "    <tr>\n",
       "      <th>6</th>\n",
       "      <td>6</td>\n",
       "      <td>Charizard</td>\n",
       "      <td>Fire</td>\n",
       "      <td>Flying</td>\n",
       "      <td>534</td>\n",
       "      <td>78</td>\n",
       "      <td>84</td>\n",
       "      <td>78</td>\n",
       "      <td>109</td>\n",
       "      <td>85</td>\n",
       "      <td>100</td>\n",
       "      <td>1</td>\n",
       "      <td>False</td>\n",
       "      <td>True</td>\n",
       "    </tr>\n",
       "  </tbody>\n",
       "</table>\n",
       "</div>"
      ],
      "text/plain": [
       "   #                   Name Type 1  Type 2  Total  HP  Attack  Defense  \\\n",
       "0  1              Bulbasaur  Grass  Poison    318  45      49       49   \n",
       "1  2                Ivysaur  Grass  Poison    405  60      62       63   \n",
       "2  3               Venusaur  Grass  Poison    525  80      82       83   \n",
       "3  3  VenusaurMega Venusaur  Grass  Poison    625  80     100      123   \n",
       "4  4             Charmander   Fire     NaN    309  39      52       43   \n",
       "5  5             Charmeleon   Fire     NaN    405  58      64       58   \n",
       "6  6              Charizard   Fire  Flying    534  78      84       78   \n",
       "\n",
       "   Sp. Atk  Sp. Def  Speed  Generation  Legendary   Dual  \n",
       "0       65       65     45           1      False   True  \n",
       "1       80       80     60           1      False   True  \n",
       "2      100      100     80           1      False   True  \n",
       "3      122      120     80           1      False   True  \n",
       "4       60       50     65           1      False  False  \n",
       "5       80       65     80           1      False  False  \n",
       "6      109       85    100           1      False   True  "
      ]
     },
     "execution_count": 137,
     "metadata": {},
     "output_type": "execute_result"
    }
   ],
   "source": [
    "tmp_df = df.copy(deep=True) \n",
    "tmp_df['Dual'] = tmp_df['Type 2'].notna()\n",
    "tmp_df.head(7)"
   ]
  },
  {
   "cell_type": "markdown",
   "id": "7b016cea",
   "metadata": {},
   "source": [
    "Остаётся сгруппировать данные по столбу с флагом и посчитать нужные характеристики:"
   ]
  },
  {
   "cell_type": "code",
   "execution_count": 138,
   "id": "de745b02",
   "metadata": {},
   "outputs": [
    {
     "data": {
      "text/plain": [
       "Dual\n",
       "False    412.015544\n",
       "True     456.628019\n",
       "Name: Total, dtype: float64"
      ]
     },
     "execution_count": 138,
     "metadata": {},
     "output_type": "execute_result"
    }
   ],
   "source": [
    "tmp_df.groupby('Dual')['Total'].mean()"
   ]
  },
  {
   "cell_type": "markdown",
   "id": "f23c318f",
   "metadata": {},
   "source": [
    "**Средние значения у покемонов двойного типа больше.**"
   ]
  },
  {
   "cell_type": "markdown",
   "id": "0b528ad1",
   "metadata": {},
   "source": [
    "# 4. У кого лучше средний показатель Защита (Defense): у покемонов типа Grass или у покемонов типа Fairy? (покемоны двойного типа учитываются)"
   ]
  },
  {
   "cell_type": "code",
   "execution_count": 139,
   "id": "4bcd3d2e",
   "metadata": {},
   "outputs": [
    {
     "data": {
      "text/plain": [
       "73.25263157894737"
      ]
     },
     "execution_count": 139,
     "metadata": {},
     "output_type": "execute_result"
    }
   ],
   "source": [
    "Grass = df[(df['Type 1'] == 'Grass') | (df['Type 2'] == 'Grass')]\n",
    "Grass['Defense'].mean()"
   ]
  },
  {
   "cell_type": "code",
   "execution_count": 140,
   "id": "af87f3ff",
   "metadata": {},
   "outputs": [
    {
     "data": {
      "text/plain": [
       "70.4"
      ]
     },
     "execution_count": 140,
     "metadata": {},
     "output_type": "execute_result"
    }
   ],
   "source": [
    "Fairy = df[(df['Type 1'] == 'Fairy') | (df['Type 2'] == 'Fairy')]\n",
    "Fairy['Defense'].mean()"
   ]
  },
  {
   "cell_type": "markdown",
   "id": "dbfba92d",
   "metadata": {},
   "source": [
    "*C учётом влияния покемонов сдвоенного типа Fairy и Grass **средний показатель Grass больше.***"
   ]
  },
  {
   "cell_type": "code",
   "execution_count": 141,
   "id": "dcce7d4f",
   "metadata": {},
   "outputs": [
    {
     "data": {
      "text/plain": [
       "73.26881720430107"
      ]
     },
     "execution_count": 141,
     "metadata": {},
     "output_type": "execute_result"
    }
   ],
   "source": [
    "Grass = df[(df['Type 1'] == 'Grass') | (df['Type 2'] == 'Grass')]\n",
    "Grass = Grass[(Grass['Type 1'] != 'Fairy') & (Grass['Type 2'] != 'Fairy')] #убираем из учёта покемонов сдвоенного типа Fairy/Grass\n",
    "Grass['Defense'].mean()"
   ]
  },
  {
   "cell_type": "code",
   "execution_count": 142,
   "id": "a7d7487d",
   "metadata": {},
   "outputs": [
    {
     "data": {
      "text/plain": [
       "70.28947368421052"
      ]
     },
     "execution_count": 142,
     "metadata": {},
     "output_type": "execute_result"
    }
   ],
   "source": [
    "Fairy = df[(df['Type 1'] == 'Fairy') | (df['Type 2'] == 'Fairy')]\n",
    "Fairy = Fairy[(Fairy['Type 1'] != 'Grass') & (Fairy['Type 2'] != 'Grass')] #убираем из учёта покемонов сдвоенного типа Fairy/Grass\n",
    "Fairy['Defense'].mean()"
   ]
  },
  {
   "cell_type": "markdown",
   "id": "b5535e3d",
   "metadata": {},
   "source": [
    "*Без учёта влияния ((двух) покемонов сдвоенного типа Fairy и Grass) - **средний показатель Grass также остаётся больше.***"
   ]
  },
  {
   "cell_type": "markdown",
   "id": "9fd57abe",
   "metadata": {},
   "source": [
    "# 5. Мы полагаем, что среднестатистический легендарный покемон должен быть сильнее, чем среднестатистический нелегендарный. Подтвердите или опровергните это предположение."
   ]
  },
  {
   "cell_type": "code",
   "execution_count": 143,
   "id": "8222e8f1",
   "metadata": {},
   "outputs": [
    {
     "data": {
      "text/plain": [
       "Legendary\n",
       "False    417.213605\n",
       "True     637.384615\n",
       "Name: Total, dtype: float64"
      ]
     },
     "execution_count": 143,
     "metadata": {},
     "output_type": "execute_result"
    }
   ],
   "source": [
    "df.groupby('Legendary')['Total'].mean()"
   ]
  },
  {
   "cell_type": "markdown",
   "id": "bb90405e",
   "metadata": {},
   "source": [
    "**Согласно таблице, среднестатистический легендарный покемон действительно оказывается сильнее и превосходит обычного по средним значениям общих показателей.**"
   ]
  },
  {
   "cell_type": "code",
   "execution_count": 144,
   "id": "7a1290ec",
   "metadata": {},
   "outputs": [
    {
     "data": {
      "text/plain": [
       "Legendary\n",
       "False    Axes(0.125,0.11;0.775x0.77)\n",
       "True     Axes(0.125,0.11;0.775x0.77)\n",
       "Name: Total, dtype: object"
      ]
     },
     "execution_count": 144,
     "metadata": {},
     "output_type": "execute_result"
    },
    {
     "data": {
      "image/png": "[encoded data removed]",
      "text/plain": [
       "<Figure size 640x480 with 1 Axes>"
      ]
     },
     "metadata": {},
     "output_type": "display_data"
    }
   ],
   "source": [
    "df.groupby('Legendary')['Total'].plot(kind='kde', xlim=[0, 900], legend='True')"
   ]
  },
  {
   "cell_type": "markdown",
   "id": "2fa084ee",
   "metadata": {},
   "source": [
    "# 6. Покажите все случаи (пары покемонов), когда легендарный покемон по показателю Total оказался слабее, чем нелегендарный. Сколько таких случаев?"
   ]
  },
  {
   "cell_type": "markdown",
   "id": "7d3797da",
   "metadata": {},
   "source": [
    "Сгруппируем и посмотрим разброс легендарных и нелегендарных покемонов по общему показателю:"
   ]
  },
  {
   "cell_type": "code",
   "execution_count": 145,
   "id": "88a959e9",
   "metadata": {},
   "outputs": [
    {
     "data": {
      "text/html": [
       "<div>\n",
       "<style scoped>\n",
       "    .dataframe tbody tr th:only-of-type {\n",
       "        vertical-align: middle;\n",
       "    }\n",
       "\n",
       "    .dataframe tbody tr th {\n",
       "        vertical-align: top;\n",
       "    }\n",
       "\n",
       "    .dataframe thead th {\n",
       "        text-align: right;\n",
       "    }\n",
       "</style>\n",
       "<table border=\"1\" class=\"dataframe\">\n",
       "  <thead>\n",
       "    <tr style=\"text-align: right;\">\n",
       "      <th></th>\n",
       "      <th>count</th>\n",
       "      <th>mean</th>\n",
       "      <th>std</th>\n",
       "      <th>min</th>\n",
       "      <th>25%</th>\n",
       "      <th>50%</th>\n",
       "      <th>75%</th>\n",
       "      <th>max</th>\n",
       "    </tr>\n",
       "    <tr>\n",
       "      <th>Legendary</th>\n",
       "      <th></th>\n",
       "      <th></th>\n",
       "      <th></th>\n",
       "      <th></th>\n",
       "      <th></th>\n",
       "      <th></th>\n",
       "      <th></th>\n",
       "      <th></th>\n",
       "    </tr>\n",
       "  </thead>\n",
       "  <tbody>\n",
       "    <tr>\n",
       "      <th>False</th>\n",
       "      <td>735.0</td>\n",
       "      <td>417.213605</td>\n",
       "      <td>106.760417</td>\n",
       "      <td>180.0</td>\n",
       "      <td>324.0</td>\n",
       "      <td>425.0</td>\n",
       "      <td>498.0</td>\n",
       "      <td>700.0</td>\n",
       "    </tr>\n",
       "    <tr>\n",
       "      <th>True</th>\n",
       "      <td>65.0</td>\n",
       "      <td>637.384615</td>\n",
       "      <td>60.937389</td>\n",
       "      <td>580.0</td>\n",
       "      <td>580.0</td>\n",
       "      <td>600.0</td>\n",
       "      <td>680.0</td>\n",
       "      <td>780.0</td>\n",
       "    </tr>\n",
       "  </tbody>\n",
       "</table>\n",
       "</div>"
      ],
      "text/plain": [
       "           count        mean         std    min    25%    50%    75%    max\n",
       "Legendary                                                                  \n",
       "False      735.0  417.213605  106.760417  180.0  324.0  425.0  498.0  700.0\n",
       "True        65.0  637.384615   60.937389  580.0  580.0  600.0  680.0  780.0"
      ]
     },
     "execution_count": 145,
     "metadata": {},
     "output_type": "execute_result"
    }
   ],
   "source": [
    "df.groupby('Legendary')['Total'].describe()"
   ]
  },
  {
   "cell_type": "markdown",
   "id": "f9e08dc5",
   "metadata": {},
   "source": [
    "Нам нужны пары покемонов и случаи, когда нелегендарный покемон слабее легендарного (по показаьелю Total), для этого обратим внимание на разброс значений от минимального до максимального.\n",
    "\n",
    "Очевидно, что мы сразу можем уменьшить нашу выборку:\n",
    "- Нам не нужны нелегендарные покемоны с Total < 581 (т.к. наиболее слабый легендарный покемон имеет Total = 580)\n",
    "- И нет нужды в легендарных покемонах с Total >= 700 (т.к. все покемоны с этого интервала уже сильнее или равны по силе прочим нелегендарным)"
   ]
  },
  {
   "cell_type": "code",
   "execution_count": 146,
   "id": "1ec87839",
   "metadata": {},
   "outputs": [
    {
     "data": {
      "text/plain": [
       "\" Legend = df[df['Legendary'] & df['Total'] < 700)] \\nLegend = Legend[['#', 'Name', 'Total', 'Legendary']].sort_values('Total')\\n\\nNo_Legend = df[(df['Legendary'] == False) & (df['Total'] > 580)] \\nNo_Legend = No_Legend[['#', 'Name', 'Total', 'Legendary']].sort_values('Total') \""
      ]
     },
     "execution_count": 146,
     "metadata": {},
     "output_type": "execute_result"
    }
   ],
   "source": [
    "\"\"\" Legend = df[df['Legendary'] & df['Total'] < 700)] \n",
    "Legend = Legend[['#', 'Name', 'Total', 'Legendary']].sort_values('Total')\n",
    "\n",
    "No_Legend = df[(df['Legendary'] == False) & (df['Total'] > 580)] \n",
    "No_Legend = No_Legend[['#', 'Name', 'Total', 'Legendary']].sort_values('Total') \"\"\""
   ]
  },
  {
   "cell_type": "markdown",
   "id": "fe0106a6",
   "metadata": {},
   "source": [
    "Впрочем, в данном случае, нет нужды в упрощении выборки. Создадим полную таблицу всех пар легендарных/обычных покемонов и добавим колонку с меткой на нужное нам условие, которая позволит фильтрацией получить необходимые значения. "
   ]
  },
  {
   "cell_type": "code",
   "execution_count": 147,
   "id": "857a901d",
   "metadata": {},
   "outputs": [],
   "source": [
    "Legend = df[df['Legendary']==True].sort_values('Total')\n",
    "No_Legend = df[df['Legendary']==False].sort_values('Total')"
   ]
  },
  {
   "cell_type": "code",
   "execution_count": 148,
   "id": "05d02bbf",
   "metadata": {},
   "outputs": [
    {
     "data": {
      "text/html": [
       "<div>\n",
       "<style scoped>\n",
       "    .dataframe tbody tr th:only-of-type {\n",
       "        vertical-align: middle;\n",
       "    }\n",
       "\n",
       "    .dataframe tbody tr th {\n",
       "        vertical-align: top;\n",
       "    }\n",
       "\n",
       "    .dataframe thead th {\n",
       "        text-align: right;\n",
       "    }\n",
       "</style>\n",
       "<table border=\"1\" class=\"dataframe\">\n",
       "  <thead>\n",
       "    <tr style=\"text-align: right;\">\n",
       "      <th></th>\n",
       "      <th>#_x</th>\n",
       "      <th>Name_x</th>\n",
       "      <th>Type 1_x</th>\n",
       "      <th>Type 2_x</th>\n",
       "      <th>Total_x</th>\n",
       "      <th>HP_x</th>\n",
       "      <th>Attack_x</th>\n",
       "      <th>Defense_x</th>\n",
       "      <th>Sp. Atk_x</th>\n",
       "      <th>Sp. Def_x</th>\n",
       "      <th>...</th>\n",
       "      <th>Total_y</th>\n",
       "      <th>HP_y</th>\n",
       "      <th>Attack_y</th>\n",
       "      <th>Defense_y</th>\n",
       "      <th>Sp. Atk_y</th>\n",
       "      <th>Sp. Def_y</th>\n",
       "      <th>Speed_y</th>\n",
       "      <th>Generation_y</th>\n",
       "      <th>Legendary_y</th>\n",
       "      <th>Lose_Legendary</th>\n",
       "    </tr>\n",
       "  </thead>\n",
       "  <tbody>\n",
       "    <tr>\n",
       "      <th>0</th>\n",
       "      <td>144</td>\n",
       "      <td>Articuno</td>\n",
       "      <td>Ice</td>\n",
       "      <td>Flying</td>\n",
       "      <td>580</td>\n",
       "      <td>90</td>\n",
       "      <td>85</td>\n",
       "      <td>100</td>\n",
       "      <td>95</td>\n",
       "      <td>125</td>\n",
       "      <td>...</td>\n",
       "      <td>180</td>\n",
       "      <td>30</td>\n",
       "      <td>30</td>\n",
       "      <td>30</td>\n",
       "      <td>30</td>\n",
       "      <td>30</td>\n",
       "      <td>30</td>\n",
       "      <td>2</td>\n",
       "      <td>False</td>\n",
       "      <td>False</td>\n",
       "    </tr>\n",
       "    <tr>\n",
       "      <th>1</th>\n",
       "      <td>144</td>\n",
       "      <td>Articuno</td>\n",
       "      <td>Ice</td>\n",
       "      <td>Flying</td>\n",
       "      <td>580</td>\n",
       "      <td>90</td>\n",
       "      <td>85</td>\n",
       "      <td>100</td>\n",
       "      <td>95</td>\n",
       "      <td>125</td>\n",
       "      <td>...</td>\n",
       "      <td>190</td>\n",
       "      <td>50</td>\n",
       "      <td>20</td>\n",
       "      <td>40</td>\n",
       "      <td>20</td>\n",
       "      <td>40</td>\n",
       "      <td>20</td>\n",
       "      <td>3</td>\n",
       "      <td>False</td>\n",
       "      <td>False</td>\n",
       "    </tr>\n",
       "    <tr>\n",
       "      <th>2</th>\n",
       "      <td>144</td>\n",
       "      <td>Articuno</td>\n",
       "      <td>Ice</td>\n",
       "      <td>Flying</td>\n",
       "      <td>580</td>\n",
       "      <td>90</td>\n",
       "      <td>85</td>\n",
       "      <td>100</td>\n",
       "      <td>95</td>\n",
       "      <td>125</td>\n",
       "      <td>...</td>\n",
       "      <td>194</td>\n",
       "      <td>37</td>\n",
       "      <td>25</td>\n",
       "      <td>41</td>\n",
       "      <td>25</td>\n",
       "      <td>41</td>\n",
       "      <td>25</td>\n",
       "      <td>4</td>\n",
       "      <td>False</td>\n",
       "      <td>False</td>\n",
       "    </tr>\n",
       "    <tr>\n",
       "      <th>3</th>\n",
       "      <td>144</td>\n",
       "      <td>Articuno</td>\n",
       "      <td>Ice</td>\n",
       "      <td>Flying</td>\n",
       "      <td>580</td>\n",
       "      <td>90</td>\n",
       "      <td>85</td>\n",
       "      <td>100</td>\n",
       "      <td>95</td>\n",
       "      <td>125</td>\n",
       "      <td>...</td>\n",
       "      <td>195</td>\n",
       "      <td>40</td>\n",
       "      <td>35</td>\n",
       "      <td>30</td>\n",
       "      <td>20</td>\n",
       "      <td>20</td>\n",
       "      <td>50</td>\n",
       "      <td>1</td>\n",
       "      <td>False</td>\n",
       "      <td>False</td>\n",
       "    </tr>\n",
       "    <tr>\n",
       "      <th>4</th>\n",
       "      <td>144</td>\n",
       "      <td>Articuno</td>\n",
       "      <td>Ice</td>\n",
       "      <td>Flying</td>\n",
       "      <td>580</td>\n",
       "      <td>90</td>\n",
       "      <td>85</td>\n",
       "      <td>100</td>\n",
       "      <td>95</td>\n",
       "      <td>125</td>\n",
       "      <td>...</td>\n",
       "      <td>195</td>\n",
       "      <td>45</td>\n",
       "      <td>30</td>\n",
       "      <td>35</td>\n",
       "      <td>20</td>\n",
       "      <td>20</td>\n",
       "      <td>45</td>\n",
       "      <td>1</td>\n",
       "      <td>False</td>\n",
       "      <td>False</td>\n",
       "    </tr>\n",
       "  </tbody>\n",
       "</table>\n",
       "<p>5 rows × 27 columns</p>\n",
       "</div>"
      ],
      "text/plain": [
       "   #_x    Name_x Type 1_x Type 2_x  Total_x  HP_x  Attack_x  Defense_x  \\\n",
       "0  144  Articuno      Ice   Flying      580    90        85        100   \n",
       "1  144  Articuno      Ice   Flying      580    90        85        100   \n",
       "2  144  Articuno      Ice   Flying      580    90        85        100   \n",
       "3  144  Articuno      Ice   Flying      580    90        85        100   \n",
       "4  144  Articuno      Ice   Flying      580    90        85        100   \n",
       "\n",
       "   Sp. Atk_x  Sp. Def_x  ...  Total_y  HP_y  Attack_y  Defense_y Sp. Atk_y  \\\n",
       "0         95        125  ...      180    30        30         30        30   \n",
       "1         95        125  ...      190    50        20         40        20   \n",
       "2         95        125  ...      194    37        25         41        25   \n",
       "3         95        125  ...      195    40        35         30        20   \n",
       "4         95        125  ...      195    45        30         35        20   \n",
       "\n",
       "  Sp. Def_y Speed_y  Generation_y  Legendary_y  Lose_Legendary  \n",
       "0        30      30             2        False           False  \n",
       "1        40      20             3        False           False  \n",
       "2        41      25             4        False           False  \n",
       "3        20      50             1        False           False  \n",
       "4        20      45             1        False           False  \n",
       "\n",
       "[5 rows x 27 columns]"
      ]
     },
     "execution_count": 148,
     "metadata": {},
     "output_type": "execute_result"
    }
   ],
   "source": [
    "df2 = No_Legend\n",
    "df1 = Legend\n",
    "#Добавляем временные ключи для объединения\n",
    "df1['_temp_key'] = 1\n",
    "df2['_temp_key'] = 1\n",
    "\n",
    "#декартово произведение, получаем всевозможные пары покемонов\n",
    "merged_df = pd.merge(df1, df2, on='_temp_key').drop(columns='_temp_key')\n",
    "\n",
    "#добавим флаг True в случае проигрыша легендарного покемона в паре\n",
    "merged_df['Lose_Legendary'] = (merged_df['Total_x'] < merged_df['Total_y'])\n",
    "merged_df.head()"
   ]
  },
  {
   "cell_type": "markdown",
   "id": "57b79ad4",
   "metadata": {},
   "source": [
    "Получаем таблицу из всевозможных пар покемонов и отметкой о выполнении нужного условия. Остаётся её отфильтровать и получить ответ на вопрос: "
   ]
  },
  {
   "cell_type": "code",
   "execution_count": 149,
   "id": "22e6a40b",
   "metadata": {},
   "outputs": [
    {
     "name": "stdout",
     "output_type": "stream",
     "text": [
      "Всего случае когда нелегендарный покемон оказывается сильнее легендарного: 1265\n"
     ]
    },
    {
     "data": {
      "text/html": [
       "<div>\n",
       "<style scoped>\n",
       "    .dataframe tbody tr th:only-of-type {\n",
       "        vertical-align: middle;\n",
       "    }\n",
       "\n",
       "    .dataframe tbody tr th {\n",
       "        vertical-align: top;\n",
       "    }\n",
       "\n",
       "    .dataframe thead th {\n",
       "        text-align: right;\n",
       "    }\n",
       "</style>\n",
       "<table border=\"1\" class=\"dataframe\">\n",
       "  <thead>\n",
       "    <tr style=\"text-align: right;\">\n",
       "      <th></th>\n",
       "      <th>#_x</th>\n",
       "      <th>Name_x</th>\n",
       "      <th>Total_x</th>\n",
       "      <th>Legendary_x</th>\n",
       "      <th>#_y</th>\n",
       "      <th>Name_y</th>\n",
       "      <th>Total_y</th>\n",
       "      <th>Legendary_y</th>\n",
       "    </tr>\n",
       "  </thead>\n",
       "  <tbody>\n",
       "    <tr>\n",
       "      <th>691</th>\n",
       "      <td>144</td>\n",
       "      <td>Articuno</td>\n",
       "      <td>580</td>\n",
       "      <td>True</td>\n",
       "      <td>65</td>\n",
       "      <td>AlakazamMega Alakazam</td>\n",
       "      <td>590</td>\n",
       "      <td>False</td>\n",
       "    </tr>\n",
       "    <tr>\n",
       "      <th>692</th>\n",
       "      <td>144</td>\n",
       "      <td>Articuno</td>\n",
       "      <td>580</td>\n",
       "      <td>True</td>\n",
       "      <td>334</td>\n",
       "      <td>AltariaMega Altaria</td>\n",
       "      <td>590</td>\n",
       "      <td>False</td>\n",
       "    </tr>\n",
       "    <tr>\n",
       "      <th>693</th>\n",
       "      <td>144</td>\n",
       "      <td>Articuno</td>\n",
       "      <td>580</td>\n",
       "      <td>True</td>\n",
       "      <td>115</td>\n",
       "      <td>KangaskhanMega Kangaskhan</td>\n",
       "      <td>590</td>\n",
       "      <td>False</td>\n",
       "    </tr>\n",
       "    <tr>\n",
       "      <th>694</th>\n",
       "      <td>144</td>\n",
       "      <td>Articuno</td>\n",
       "      <td>580</td>\n",
       "      <td>True</td>\n",
       "      <td>80</td>\n",
       "      <td>SlowbroMega Slowbro</td>\n",
       "      <td>590</td>\n",
       "      <td>False</td>\n",
       "    </tr>\n",
       "    <tr>\n",
       "      <th>695</th>\n",
       "      <td>144</td>\n",
       "      <td>Articuno</td>\n",
       "      <td>580</td>\n",
       "      <td>True</td>\n",
       "      <td>460</td>\n",
       "      <td>AbomasnowMega Abomasnow</td>\n",
       "      <td>594</td>\n",
       "      <td>False</td>\n",
       "    </tr>\n",
       "    <tr>\n",
       "      <th>...</th>\n",
       "      <td>...</td>\n",
       "      <td>...</td>\n",
       "      <td>...</td>\n",
       "      <td>...</td>\n",
       "      <td>...</td>\n",
       "      <td>...</td>\n",
       "      <td>...</td>\n",
       "      <td>...</td>\n",
       "    </tr>\n",
       "    <tr>\n",
       "      <th>38954</th>\n",
       "      <td>484</td>\n",
       "      <td>Palkia</td>\n",
       "      <td>680</td>\n",
       "      <td>True</td>\n",
       "      <td>376</td>\n",
       "      <td>MetagrossMega Metagross</td>\n",
       "      <td>700</td>\n",
       "      <td>False</td>\n",
       "    </tr>\n",
       "    <tr>\n",
       "      <th>39686</th>\n",
       "      <td>487</td>\n",
       "      <td>GiratinaOrigin Forme</td>\n",
       "      <td>680</td>\n",
       "      <td>True</td>\n",
       "      <td>248</td>\n",
       "      <td>TyranitarMega Tyranitar</td>\n",
       "      <td>700</td>\n",
       "      <td>False</td>\n",
       "    </tr>\n",
       "    <tr>\n",
       "      <th>39687</th>\n",
       "      <td>487</td>\n",
       "      <td>GiratinaOrigin Forme</td>\n",
       "      <td>680</td>\n",
       "      <td>True</td>\n",
       "      <td>373</td>\n",
       "      <td>SalamenceMega Salamence</td>\n",
       "      <td>700</td>\n",
       "      <td>False</td>\n",
       "    </tr>\n",
       "    <tr>\n",
       "      <th>39688</th>\n",
       "      <td>487</td>\n",
       "      <td>GiratinaOrigin Forme</td>\n",
       "      <td>680</td>\n",
       "      <td>True</td>\n",
       "      <td>445</td>\n",
       "      <td>GarchompMega Garchomp</td>\n",
       "      <td>700</td>\n",
       "      <td>False</td>\n",
       "    </tr>\n",
       "    <tr>\n",
       "      <th>39689</th>\n",
       "      <td>487</td>\n",
       "      <td>GiratinaOrigin Forme</td>\n",
       "      <td>680</td>\n",
       "      <td>True</td>\n",
       "      <td>376</td>\n",
       "      <td>MetagrossMega Metagross</td>\n",
       "      <td>700</td>\n",
       "      <td>False</td>\n",
       "    </tr>\n",
       "  </tbody>\n",
       "</table>\n",
       "<p>1265 rows × 8 columns</p>\n",
       "</div>"
      ],
      "text/plain": [
       "       #_x                Name_x  Total_x  Legendary_x  #_y  \\\n",
       "691    144              Articuno      580         True   65   \n",
       "692    144              Articuno      580         True  334   \n",
       "693    144              Articuno      580         True  115   \n",
       "694    144              Articuno      580         True   80   \n",
       "695    144              Articuno      580         True  460   \n",
       "...    ...                   ...      ...          ...  ...   \n",
       "38954  484                Palkia      680         True  376   \n",
       "39686  487  GiratinaOrigin Forme      680         True  248   \n",
       "39687  487  GiratinaOrigin Forme      680         True  373   \n",
       "39688  487  GiratinaOrigin Forme      680         True  445   \n",
       "39689  487  GiratinaOrigin Forme      680         True  376   \n",
       "\n",
       "                          Name_y  Total_y  Legendary_y  \n",
       "691        AlakazamMega Alakazam      590        False  \n",
       "692          AltariaMega Altaria      590        False  \n",
       "693    KangaskhanMega Kangaskhan      590        False  \n",
       "694          SlowbroMega Slowbro      590        False  \n",
       "695      AbomasnowMega Abomasnow      594        False  \n",
       "...                          ...      ...          ...  \n",
       "38954    MetagrossMega Metagross      700        False  \n",
       "39686    TyranitarMega Tyranitar      700        False  \n",
       "39687    SalamenceMega Salamence      700        False  \n",
       "39688      GarchompMega Garchomp      700        False  \n",
       "39689    MetagrossMega Metagross      700        False  \n",
       "\n",
       "[1265 rows x 8 columns]"
      ]
     },
     "execution_count": 149,
     "metadata": {},
     "output_type": "execute_result"
    }
   ],
   "source": [
    "Lose_Legendary = merged_df[merged_df['Lose_Legendary'] == True] \n",
    "Lose_Legendary = Lose_Legendary[['#_x', 'Name_x', 'Total_x', 'Legendary_x', '#_y', 'Name_y', 'Total_y', 'Legendary_y']] #Упроситим таблицу, убрав лишние столбцы\n",
    "print(f'Всего случае когда нелегендарный покемон оказывается сильнее легендарного: {len(Lose_Legendary)}')\n",
    "Lose_Legendary"
   ]
  },
  {
   "cell_type": "markdown",
   "id": "853fe1df",
   "metadata": {},
   "source": [
    "**Получаем таблицу из всех 1265 пар покемонов, когда легендарный покемон оказался слабее обычного.**"
   ]
  },
  {
   "cell_type": "markdown",
   "id": "a2879385",
   "metadata": {},
   "source": [
    "# 7. Для каждой пары, в которой нелегендарный покемон оказывается сильнее легендарного посчитайте разницу в показателе Total. Постройте гистограму полученной величины. Похоже ли распределение на нормальное? Рассчитайте среднее арифметическое, медиану и моду данной величины."
   ]
  },
  {
   "cell_type": "markdown",
   "id": "a6696088",
   "metadata": {},
   "source": [
    "Для ответа воспользуемся полученной выше таблицей. Добавим к ней столбец с разницей показателей 'Total':"
   ]
  },
  {
   "cell_type": "code",
   "execution_count": 150,
   "id": "1b1c7677",
   "metadata": {},
   "outputs": [
    {
     "data": {
      "text/html": [
       "<div>\n",
       "<style scoped>\n",
       "    .dataframe tbody tr th:only-of-type {\n",
       "        vertical-align: middle;\n",
       "    }\n",
       "\n",
       "    .dataframe tbody tr th {\n",
       "        vertical-align: top;\n",
       "    }\n",
       "\n",
       "    .dataframe thead th {\n",
       "        text-align: right;\n",
       "    }\n",
       "</style>\n",
       "<table border=\"1\" class=\"dataframe\">\n",
       "  <thead>\n",
       "    <tr style=\"text-align: right;\">\n",
       "      <th></th>\n",
       "      <th>#_x</th>\n",
       "      <th>Name_x</th>\n",
       "      <th>Total_x</th>\n",
       "      <th>Legendary_x</th>\n",
       "      <th>#_y</th>\n",
       "      <th>Name_y</th>\n",
       "      <th>Total_y</th>\n",
       "      <th>Legendary_y</th>\n",
       "      <th>Difference Total</th>\n",
       "    </tr>\n",
       "  </thead>\n",
       "  <tbody>\n",
       "    <tr>\n",
       "      <th>691</th>\n",
       "      <td>144</td>\n",
       "      <td>Articuno</td>\n",
       "      <td>580</td>\n",
       "      <td>True</td>\n",
       "      <td>65</td>\n",
       "      <td>AlakazamMega Alakazam</td>\n",
       "      <td>590</td>\n",
       "      <td>False</td>\n",
       "      <td>10</td>\n",
       "    </tr>\n",
       "    <tr>\n",
       "      <th>692</th>\n",
       "      <td>144</td>\n",
       "      <td>Articuno</td>\n",
       "      <td>580</td>\n",
       "      <td>True</td>\n",
       "      <td>334</td>\n",
       "      <td>AltariaMega Altaria</td>\n",
       "      <td>590</td>\n",
       "      <td>False</td>\n",
       "      <td>10</td>\n",
       "    </tr>\n",
       "    <tr>\n",
       "      <th>693</th>\n",
       "      <td>144</td>\n",
       "      <td>Articuno</td>\n",
       "      <td>580</td>\n",
       "      <td>True</td>\n",
       "      <td>115</td>\n",
       "      <td>KangaskhanMega Kangaskhan</td>\n",
       "      <td>590</td>\n",
       "      <td>False</td>\n",
       "      <td>10</td>\n",
       "    </tr>\n",
       "    <tr>\n",
       "      <th>694</th>\n",
       "      <td>144</td>\n",
       "      <td>Articuno</td>\n",
       "      <td>580</td>\n",
       "      <td>True</td>\n",
       "      <td>80</td>\n",
       "      <td>SlowbroMega Slowbro</td>\n",
       "      <td>590</td>\n",
       "      <td>False</td>\n",
       "      <td>10</td>\n",
       "    </tr>\n",
       "    <tr>\n",
       "      <th>695</th>\n",
       "      <td>144</td>\n",
       "      <td>Articuno</td>\n",
       "      <td>580</td>\n",
       "      <td>True</td>\n",
       "      <td>460</td>\n",
       "      <td>AbomasnowMega Abomasnow</td>\n",
       "      <td>594</td>\n",
       "      <td>False</td>\n",
       "      <td>14</td>\n",
       "    </tr>\n",
       "    <tr>\n",
       "      <th>...</th>\n",
       "      <td>...</td>\n",
       "      <td>...</td>\n",
       "      <td>...</td>\n",
       "      <td>...</td>\n",
       "      <td>...</td>\n",
       "      <td>...</td>\n",
       "      <td>...</td>\n",
       "      <td>...</td>\n",
       "      <td>...</td>\n",
       "    </tr>\n",
       "    <tr>\n",
       "      <th>38954</th>\n",
       "      <td>484</td>\n",
       "      <td>Palkia</td>\n",
       "      <td>680</td>\n",
       "      <td>True</td>\n",
       "      <td>376</td>\n",
       "      <td>MetagrossMega Metagross</td>\n",
       "      <td>700</td>\n",
       "      <td>False</td>\n",
       "      <td>20</td>\n",
       "    </tr>\n",
       "    <tr>\n",
       "      <th>39686</th>\n",
       "      <td>487</td>\n",
       "      <td>GiratinaOrigin Forme</td>\n",
       "      <td>680</td>\n",
       "      <td>True</td>\n",
       "      <td>248</td>\n",
       "      <td>TyranitarMega Tyranitar</td>\n",
       "      <td>700</td>\n",
       "      <td>False</td>\n",
       "      <td>20</td>\n",
       "    </tr>\n",
       "    <tr>\n",
       "      <th>39687</th>\n",
       "      <td>487</td>\n",
       "      <td>GiratinaOrigin Forme</td>\n",
       "      <td>680</td>\n",
       "      <td>True</td>\n",
       "      <td>373</td>\n",
       "      <td>SalamenceMega Salamence</td>\n",
       "      <td>700</td>\n",
       "      <td>False</td>\n",
       "      <td>20</td>\n",
       "    </tr>\n",
       "    <tr>\n",
       "      <th>39688</th>\n",
       "      <td>487</td>\n",
       "      <td>GiratinaOrigin Forme</td>\n",
       "      <td>680</td>\n",
       "      <td>True</td>\n",
       "      <td>445</td>\n",
       "      <td>GarchompMega Garchomp</td>\n",
       "      <td>700</td>\n",
       "      <td>False</td>\n",
       "      <td>20</td>\n",
       "    </tr>\n",
       "    <tr>\n",
       "      <th>39689</th>\n",
       "      <td>487</td>\n",
       "      <td>GiratinaOrigin Forme</td>\n",
       "      <td>680</td>\n",
       "      <td>True</td>\n",
       "      <td>376</td>\n",
       "      <td>MetagrossMega Metagross</td>\n",
       "      <td>700</td>\n",
       "      <td>False</td>\n",
       "      <td>20</td>\n",
       "    </tr>\n",
       "  </tbody>\n",
       "</table>\n",
       "<p>1265 rows × 9 columns</p>\n",
       "</div>"
      ],
      "text/plain": [
       "       #_x                Name_x  Total_x  Legendary_x  #_y  \\\n",
       "691    144              Articuno      580         True   65   \n",
       "692    144              Articuno      580         True  334   \n",
       "693    144              Articuno      580         True  115   \n",
       "694    144              Articuno      580         True   80   \n",
       "695    144              Articuno      580         True  460   \n",
       "...    ...                   ...      ...          ...  ...   \n",
       "38954  484                Palkia      680         True  376   \n",
       "39686  487  GiratinaOrigin Forme      680         True  248   \n",
       "39687  487  GiratinaOrigin Forme      680         True  373   \n",
       "39688  487  GiratinaOrigin Forme      680         True  445   \n",
       "39689  487  GiratinaOrigin Forme      680         True  376   \n",
       "\n",
       "                          Name_y  Total_y  Legendary_y  Difference Total  \n",
       "691        AlakazamMega Alakazam      590        False                10  \n",
       "692          AltariaMega Altaria      590        False                10  \n",
       "693    KangaskhanMega Kangaskhan      590        False                10  \n",
       "694          SlowbroMega Slowbro      590        False                10  \n",
       "695      AbomasnowMega Abomasnow      594        False                14  \n",
       "...                          ...      ...          ...               ...  \n",
       "38954    MetagrossMega Metagross      700        False                20  \n",
       "39686    TyranitarMega Tyranitar      700        False                20  \n",
       "39687    SalamenceMega Salamence      700        False                20  \n",
       "39688      GarchompMega Garchomp      700        False                20  \n",
       "39689    MetagrossMega Metagross      700        False                20  \n",
       "\n",
       "[1265 rows x 9 columns]"
      ]
     },
     "execution_count": 150,
     "metadata": {},
     "output_type": "execute_result"
    }
   ],
   "source": [
    "Lose_Legendary['Difference Total'] = (Lose_Legendary['Total_y'] - Lose_Legendary['Total_x'])\n",
    "Lose_Legendary"
   ]
  },
  {
   "cell_type": "markdown",
   "id": "80349657",
   "metadata": {},
   "source": [
    "Получили **таблицу с разницей общих показателей. Построим гистограмму:**"
   ]
  },
  {
   "cell_type": "code",
   "execution_count": 151,
   "id": "c8fac899",
   "metadata": {},
   "outputs": [
    {
     "data": {
      "text/plain": [
       "<Axes: xlabel='Difference Total', ylabel='Count'>"
      ]
     },
     "execution_count": 151,
     "metadata": {},
     "output_type": "execute_result"
    },
    {
     "data": {
      "image/png": "[encoded data removed]",
      "text/plain": [
       "<Figure size 640x480 with 1 Axes>"
      ]
     },
     "metadata": {},
     "output_type": "display_data"
    }
   ],
   "source": [
    "sns.histplot(Lose_Legendary['Difference Total'], bins=25, color='blue')"
   ]
  },
  {
   "cell_type": "markdown",
   "id": "adbfa2a9",
   "metadata": {},
   "source": [
    "**Распределение не похоже на нормальное.** Оценим это более формульно, используя Quantile-Quantile Plots и тест Шапиро-Уилка:"
   ]
  },
  {
   "cell_type": "code",
   "execution_count": 152,
   "id": "79aa5f77",
   "metadata": {},
   "outputs": [],
   "source": [
    "import scipy.stats as stats\n",
    "from scipy.stats import shapiro"
   ]
  },
  {
   "cell_type": "code",
   "execution_count": 153,
   "id": "1ffa836f",
   "metadata": {},
   "outputs": [
    {
     "data": {
      "text/plain": [
       "Text(0.5, 1.0, 'Q-Q Plot normal')"
      ]
     },
     "execution_count": 153,
     "metadata": {},
     "output_type": "execute_result"
    },
    {
     "data": {
      "image/png": "[encoded data removed]",
      "text/plain": [
       "<Figure size 640x480 with 1 Axes>"
      ]
     },
     "metadata": {},
     "output_type": "display_data"
    }
   ],
   "source": [
    "# Создаем Q-Q plot для данных\n",
    "stats.probplot(Lose_Legendary['Difference Total'], dist=\"norm\", plot=plt)\n",
    "plt.title('Q-Q Plot normal')"
   ]
  },
  {
   "cell_type": "markdown",
   "id": "cdede657",
   "metadata": {},
   "source": [
    "Сильное отклонение точек от прямой линии, указывает на **ненормальность распределения**."
   ]
  },
  {
   "cell_type": "code",
   "execution_count": 154,
   "id": "d067f219",
   "metadata": {},
   "outputs": [
    {
     "name": "stdout",
     "output_type": "stream",
     "text": [
      "Статистика = 0.763, p-значение = 0.000\n",
      "Данные не распределены нормально (отвергаем H0)\n"
     ]
    },
    {
     "data": {
      "text/plain": [
       "Text(0.5, 1.0, 'Гистограмма и KDE')"
      ]
     },
     "execution_count": 154,
     "metadata": {},
     "output_type": "execute_result"
    },
    {
     "data": {
      "image/png": "[encoded data removed]",
      "text/plain": [
       "<Figure size 1000x500 with 1 Axes>"
      ]
     },
     "metadata": {},
     "output_type": "display_data"
    }
   ],
   "source": [
    "data = Lose_Legendary['Difference Total']\n",
    "\n",
    "# Выполняем тест Шапиро-Уилка\n",
    "stat, p = shapiro(data)\n",
    "\n",
    "# Результаты теста\n",
    "print('Статистика = %.3f, p-значение = %.3f' % (stat, p))\n",
    "if p > 0.05:\n",
    "    print('Данные распределены нормально (не отвергаем H0)')\n",
    "else:\n",
    "    print('Данные не распределены нормально (отвергаем H0)')\n",
    "\n",
    "# Визуализация данных\n",
    "plt.figure(figsize=(10, 5))\n",
    "\n",
    "# Гистограмма и KDE (плотность распределения)\n",
    "sns.histplot(data, kde=True, bins=25, color='blue')\n",
    "plt.title('Гистограмма и KDE') "
   ]
  },
  {
   "cell_type": "markdown",
   "id": "2f386b6d",
   "metadata": {},
   "source": [
    "**Среднее арифметическое, медиана и мода для заданной величины:**"
   ]
  },
  {
   "cell_type": "code",
   "execution_count": 155,
   "id": "2bcbd447",
   "metadata": {},
   "outputs": [
    {
     "data": {
      "text/plain": [
       "mean      38.746245\n",
       "median    25.000000\n",
       "mode      20.000000\n",
       "Name: Difference Total, dtype: float64"
      ]
     },
     "execution_count": 155,
     "metadata": {},
     "output_type": "execute_result"
    }
   ],
   "source": [
    "results = Lose_Legendary['Difference Total'].agg(['mean', 'median'])\n",
    "mode_value = Lose_Legendary['Difference Total'].mode()[0]\n",
    "results['mode'] = mode_value\n",
    "\n",
    "results"
   ]
  },
  {
   "cell_type": "markdown",
   "id": "ad4ce512",
   "metadata": {},
   "source": [
    "# 8. Назовите две характеристики покемонов, которые коррелируют в наименьшей степени."
   ]
  },
  {
   "cell_type": "markdown",
   "id": "72fcb39c",
   "metadata": {},
   "source": [
    "Построим таблицу корреляции между всеми числовыми величинами:"
   ]
  },
  {
   "cell_type": "code",
   "execution_count": 156,
   "id": "e9b0e68d",
   "metadata": {},
   "outputs": [
    {
     "data": {
      "text/html": [
       "<div>\n",
       "<style scoped>\n",
       "    .dataframe tbody tr th:only-of-type {\n",
       "        vertical-align: middle;\n",
       "    }\n",
       "\n",
       "    .dataframe tbody tr th {\n",
       "        vertical-align: top;\n",
       "    }\n",
       "\n",
       "    .dataframe thead th {\n",
       "        text-align: right;\n",
       "    }\n",
       "</style>\n",
       "<table border=\"1\" class=\"dataframe\">\n",
       "  <thead>\n",
       "    <tr style=\"text-align: right;\">\n",
       "      <th></th>\n",
       "      <th>Total</th>\n",
       "      <th>HP</th>\n",
       "      <th>Attack</th>\n",
       "      <th>Defense</th>\n",
       "      <th>Sp. Atk</th>\n",
       "      <th>Sp. Def</th>\n",
       "      <th>Speed</th>\n",
       "      <th>Generation</th>\n",
       "      <th>Legendary</th>\n",
       "    </tr>\n",
       "  </thead>\n",
       "  <tbody>\n",
       "    <tr>\n",
       "      <th>Total</th>\n",
       "      <td>1.000000</td>\n",
       "      <td>0.618748</td>\n",
       "      <td>0.736211</td>\n",
       "      <td>0.612787</td>\n",
       "      <td>0.747250</td>\n",
       "      <td>0.717609</td>\n",
       "      <td>0.575943</td>\n",
       "      <td>0.048384</td>\n",
       "      <td>0.501758</td>\n",
       "    </tr>\n",
       "    <tr>\n",
       "      <th>HP</th>\n",
       "      <td>0.618748</td>\n",
       "      <td>1.000000</td>\n",
       "      <td>0.422386</td>\n",
       "      <td>0.239622</td>\n",
       "      <td>0.362380</td>\n",
       "      <td>0.378718</td>\n",
       "      <td>0.175952</td>\n",
       "      <td>0.058683</td>\n",
       "      <td>0.273620</td>\n",
       "    </tr>\n",
       "    <tr>\n",
       "      <th>Attack</th>\n",
       "      <td>0.736211</td>\n",
       "      <td>0.422386</td>\n",
       "      <td>1.000000</td>\n",
       "      <td>0.438687</td>\n",
       "      <td>0.396362</td>\n",
       "      <td>0.263990</td>\n",
       "      <td>0.381240</td>\n",
       "      <td>0.051451</td>\n",
       "      <td>0.345408</td>\n",
       "    </tr>\n",
       "    <tr>\n",
       "      <th>Defense</th>\n",
       "      <td>0.612787</td>\n",
       "      <td>0.239622</td>\n",
       "      <td>0.438687</td>\n",
       "      <td>1.000000</td>\n",
       "      <td>0.223549</td>\n",
       "      <td>0.510747</td>\n",
       "      <td>0.015227</td>\n",
       "      <td>0.042419</td>\n",
       "      <td>0.246377</td>\n",
       "    </tr>\n",
       "    <tr>\n",
       "      <th>Sp. Atk</th>\n",
       "      <td>0.747250</td>\n",
       "      <td>0.362380</td>\n",
       "      <td>0.396362</td>\n",
       "      <td>0.223549</td>\n",
       "      <td>1.000000</td>\n",
       "      <td>0.506121</td>\n",
       "      <td>0.473018</td>\n",
       "      <td>0.036437</td>\n",
       "      <td>0.448907</td>\n",
       "    </tr>\n",
       "    <tr>\n",
       "      <th>Sp. Def</th>\n",
       "      <td>0.717609</td>\n",
       "      <td>0.378718</td>\n",
       "      <td>0.263990</td>\n",
       "      <td>0.510747</td>\n",
       "      <td>0.506121</td>\n",
       "      <td>1.000000</td>\n",
       "      <td>0.259133</td>\n",
       "      <td>0.028486</td>\n",
       "      <td>0.363937</td>\n",
       "    </tr>\n",
       "    <tr>\n",
       "      <th>Speed</th>\n",
       "      <td>0.575943</td>\n",
       "      <td>0.175952</td>\n",
       "      <td>0.381240</td>\n",
       "      <td>0.015227</td>\n",
       "      <td>0.473018</td>\n",
       "      <td>0.259133</td>\n",
       "      <td>1.000000</td>\n",
       "      <td>-0.023121</td>\n",
       "      <td>0.326715</td>\n",
       "    </tr>\n",
       "    <tr>\n",
       "      <th>Generation</th>\n",
       "      <td>0.048384</td>\n",
       "      <td>0.058683</td>\n",
       "      <td>0.051451</td>\n",
       "      <td>0.042419</td>\n",
       "      <td>0.036437</td>\n",
       "      <td>0.028486</td>\n",
       "      <td>-0.023121</td>\n",
       "      <td>1.000000</td>\n",
       "      <td>0.079794</td>\n",
       "    </tr>\n",
       "    <tr>\n",
       "      <th>Legendary</th>\n",
       "      <td>0.501758</td>\n",
       "      <td>0.273620</td>\n",
       "      <td>0.345408</td>\n",
       "      <td>0.246377</td>\n",
       "      <td>0.448907</td>\n",
       "      <td>0.363937</td>\n",
       "      <td>0.326715</td>\n",
       "      <td>0.079794</td>\n",
       "      <td>1.000000</td>\n",
       "    </tr>\n",
       "  </tbody>\n",
       "</table>\n",
       "</div>"
      ],
      "text/plain": [
       "               Total        HP    Attack   Defense   Sp. Atk   Sp. Def  \\\n",
       "Total       1.000000  0.618748  0.736211  0.612787  0.747250  0.717609   \n",
       "HP          0.618748  1.000000  0.422386  0.239622  0.362380  0.378718   \n",
       "Attack      0.736211  0.422386  1.000000  0.438687  0.396362  0.263990   \n",
       "Defense     0.612787  0.239622  0.438687  1.000000  0.223549  0.510747   \n",
       "Sp. Atk     0.747250  0.362380  0.396362  0.223549  1.000000  0.506121   \n",
       "Sp. Def     0.717609  0.378718  0.263990  0.510747  0.506121  1.000000   \n",
       "Speed       0.575943  0.175952  0.381240  0.015227  0.473018  0.259133   \n",
       "Generation  0.048384  0.058683  0.051451  0.042419  0.036437  0.028486   \n",
       "Legendary   0.501758  0.273620  0.345408  0.246377  0.448907  0.363937   \n",
       "\n",
       "               Speed  Generation  Legendary  \n",
       "Total       0.575943    0.048384   0.501758  \n",
       "HP          0.175952    0.058683   0.273620  \n",
       "Attack      0.381240    0.051451   0.345408  \n",
       "Defense     0.015227    0.042419   0.246377  \n",
       "Sp. Atk     0.473018    0.036437   0.448907  \n",
       "Sp. Def     0.259133    0.028486   0.363937  \n",
       "Speed       1.000000   -0.023121   0.326715  \n",
       "Generation -0.023121    1.000000   0.079794  \n",
       "Legendary   0.326715    0.079794   1.000000  "
      ]
     },
     "execution_count": 156,
     "metadata": {},
     "output_type": "execute_result"
    }
   ],
   "source": [
    "Correl = df[['Total', 'HP', 'Attack', 'Defense', 'Sp. Atk', 'Sp. Def', 'Speed', 'Generation', 'Legendary']].corr()\n",
    "Correl"
   ]
  },
  {
   "cell_type": "markdown",
   "id": "466b4901",
   "metadata": {},
   "source": [
    "Считаем из таблицы несимметрычные и недиагональные элементы в одномерный массив:"
   ]
  },
  {
   "cell_type": "code",
   "execution_count": 157,
   "id": "b452bc86",
   "metadata": {},
   "outputs": [],
   "source": [
    "Correl.values[np.tril_indices_from(Correl)] = np.nan\n",
    "stacked_correl = Correl.stack()"
   ]
  },
  {
   "cell_type": "markdown",
   "id": "944692e6",
   "metadata": {},
   "source": [
    "Остаётся вывести два наименьших элемента(смотрим абсолютную величину (модуль), так как в задание не указано иных ограничений):"
   ]
  },
  {
   "cell_type": "code",
   "execution_count": 158,
   "id": "6e03be47",
   "metadata": {},
   "outputs": [
    {
     "data": {
      "text/plain": [
       "Defense  Speed         0.015227\n",
       "Speed    Generation    0.023121\n",
       "dtype: float64"
      ]
     },
     "execution_count": 158,
     "metadata": {},
     "output_type": "execute_result"
    }
   ],
   "source": [
    "two_min_abs_values = stacked_correl.abs().nsmallest(2)\n",
    "two_min_abs_values"
   ]
  },
  {
   "cell_type": "markdown",
   "id": "3be14c64",
   "metadata": {},
   "source": [
    "**Defense/Speed** и **Speed/Generation** коррелируют в наименьшей степени в сравнении с остальными числовыми характеристиками покемонов* "
   ]
  },
  {
   "cell_type": "markdown",
   "id": "358c4ea4",
   "metadata": {},
   "source": [
    "# 9. Что делает покемона легендарным, кроме суммы характеристик? Важнее сила атаки или сила защиты, а может сила специальной атаки или сила специальной защиты, или скорость, или здоровье? А может важна уникальность типа или поколение покемона? Подкрепите свое мнение расчетами."
   ]
  },
  {
   "cell_type": "code",
   "execution_count": 159,
   "id": "efcf0022",
   "metadata": {},
   "outputs": [
    {
     "data": {
      "text/html": [
       "<div>\n",
       "<style scoped>\n",
       "    .dataframe tbody tr th:only-of-type {\n",
       "        vertical-align: middle;\n",
       "    }\n",
       "\n",
       "    .dataframe tbody tr th {\n",
       "        vertical-align: top;\n",
       "    }\n",
       "\n",
       "    .dataframe thead th {\n",
       "        text-align: right;\n",
       "    }\n",
       "</style>\n",
       "<table border=\"1\" class=\"dataframe\">\n",
       "  <thead>\n",
       "    <tr style=\"text-align: right;\">\n",
       "      <th></th>\n",
       "      <th>#</th>\n",
       "      <th>Name</th>\n",
       "      <th>Type 1</th>\n",
       "      <th>Type 2</th>\n",
       "      <th>Total</th>\n",
       "      <th>HP</th>\n",
       "      <th>Attack</th>\n",
       "      <th>Defense</th>\n",
       "      <th>Sp. Atk</th>\n",
       "      <th>Sp. Def</th>\n",
       "      <th>Speed</th>\n",
       "      <th>Generation</th>\n",
       "      <th>Legendary</th>\n",
       "      <th>Dual</th>\n",
       "    </tr>\n",
       "  </thead>\n",
       "  <tbody>\n",
       "    <tr>\n",
       "      <th>0</th>\n",
       "      <td>1</td>\n",
       "      <td>Bulbasaur</td>\n",
       "      <td>Grass</td>\n",
       "      <td>Poison</td>\n",
       "      <td>318</td>\n",
       "      <td>45</td>\n",
       "      <td>49</td>\n",
       "      <td>49</td>\n",
       "      <td>65</td>\n",
       "      <td>65</td>\n",
       "      <td>45</td>\n",
       "      <td>1</td>\n",
       "      <td>False</td>\n",
       "      <td>True</td>\n",
       "    </tr>\n",
       "    <tr>\n",
       "      <th>1</th>\n",
       "      <td>2</td>\n",
       "      <td>Ivysaur</td>\n",
       "      <td>Grass</td>\n",
       "      <td>Poison</td>\n",
       "      <td>405</td>\n",
       "      <td>60</td>\n",
       "      <td>62</td>\n",
       "      <td>63</td>\n",
       "      <td>80</td>\n",
       "      <td>80</td>\n",
       "      <td>60</td>\n",
       "      <td>1</td>\n",
       "      <td>False</td>\n",
       "      <td>True</td>\n",
       "    </tr>\n",
       "    <tr>\n",
       "      <th>2</th>\n",
       "      <td>3</td>\n",
       "      <td>Venusaur</td>\n",
       "      <td>Grass</td>\n",
       "      <td>Poison</td>\n",
       "      <td>525</td>\n",
       "      <td>80</td>\n",
       "      <td>82</td>\n",
       "      <td>83</td>\n",
       "      <td>100</td>\n",
       "      <td>100</td>\n",
       "      <td>80</td>\n",
       "      <td>1</td>\n",
       "      <td>False</td>\n",
       "      <td>True</td>\n",
       "    </tr>\n",
       "    <tr>\n",
       "      <th>3</th>\n",
       "      <td>3</td>\n",
       "      <td>VenusaurMega Venusaur</td>\n",
       "      <td>Grass</td>\n",
       "      <td>Poison</td>\n",
       "      <td>625</td>\n",
       "      <td>80</td>\n",
       "      <td>100</td>\n",
       "      <td>123</td>\n",
       "      <td>122</td>\n",
       "      <td>120</td>\n",
       "      <td>80</td>\n",
       "      <td>1</td>\n",
       "      <td>False</td>\n",
       "      <td>True</td>\n",
       "    </tr>\n",
       "    <tr>\n",
       "      <th>4</th>\n",
       "      <td>4</td>\n",
       "      <td>Charmander</td>\n",
       "      <td>Fire</td>\n",
       "      <td>NaN</td>\n",
       "      <td>309</td>\n",
       "      <td>39</td>\n",
       "      <td>52</td>\n",
       "      <td>43</td>\n",
       "      <td>60</td>\n",
       "      <td>50</td>\n",
       "      <td>65</td>\n",
       "      <td>1</td>\n",
       "      <td>False</td>\n",
       "      <td>False</td>\n",
       "    </tr>\n",
       "  </tbody>\n",
       "</table>\n",
       "</div>"
      ],
      "text/plain": [
       "   #                   Name Type 1  Type 2  Total  HP  Attack  Defense  \\\n",
       "0  1              Bulbasaur  Grass  Poison    318  45      49       49   \n",
       "1  2                Ivysaur  Grass  Poison    405  60      62       63   \n",
       "2  3               Venusaur  Grass  Poison    525  80      82       83   \n",
       "3  3  VenusaurMega Venusaur  Grass  Poison    625  80     100      123   \n",
       "4  4             Charmander   Fire     NaN    309  39      52       43   \n",
       "\n",
       "   Sp. Atk  Sp. Def  Speed  Generation  Legendary   Dual  \n",
       "0       65       65     45           1      False   True  \n",
       "1       80       80     60           1      False   True  \n",
       "2      100      100     80           1      False   True  \n",
       "3      122      120     80           1      False   True  \n",
       "4       60       50     65           1      False  False  "
      ]
     },
     "execution_count": 159,
     "metadata": {},
     "output_type": "execute_result"
    }
   ],
   "source": [
    "tmp_df.head() # Обращусь к таблице с доп. отметкой о двойных покемонах, можно посмотреть взаимосвязь и легендарных и двойных покимонов"
   ]
  },
  {
   "cell_type": "markdown",
   "id": "10ebe57b",
   "metadata": {},
   "source": [
    "Построим всё туже таблицу зависимостей параметров, но для наглядности используем тепловую карту:"
   ]
  },
  {
   "cell_type": "code",
   "execution_count": 160,
   "id": "8f041931",
   "metadata": {},
   "outputs": [
    {
     "data": {
      "text/plain": [
       "Text(0.5, 1.0, 'Тепловая карта корреляций параметров')"
      ]
     },
     "execution_count": 160,
     "metadata": {},
     "output_type": "execute_result"
    },
    {
     "data": {
      "image/png": "[encoded data removed]",
      "text/plain": [
       "<Figure size 1200x1000 with 2 Axes>"
      ]
     },
     "metadata": {},
     "output_type": "display_data"
    }
   ],
   "source": [
    "check_corr = tmp_df[['Legendary', 'Total', 'HP', 'Attack', 'Defense', 'Sp. Atk', 'Sp. Def', 'Speed', 'Dual', 'Generation']]\n",
    "correlation = check_corr.corr()\n",
    "plt.figure(figsize=(12,10))\n",
    "sns.heatmap(correlation, annot=True, linewidths=0, vmin=-1, cmap=\"RdBu_r\").xaxis.set_ticks_position('top') \n",
    "plt.title('Тепловая карта корреляций параметров', pad=35)\n"
   ]
  },
  {
   "cell_type": "markdown",
   "id": "29736e14",
   "metadata": {},
   "source": [
    "Выделим, какие параметры наиболее сильно коррелируют с легендарностью покемона:"
   ]
  },
  {
   "cell_type": "code",
   "execution_count": 161,
   "id": "fcba4075",
   "metadata": {},
   "outputs": [
    {
     "data": {
      "text/plain": [
       "Total         0.501758\n",
       "Sp. Atk       0.448907\n",
       "Sp. Def       0.363937\n",
       "Attack        0.345408\n",
       "Speed         0.326715\n",
       "HP            0.273620\n",
       "Defense       0.246377\n",
       "Generation    0.079794\n",
       "Dual          0.058254\n",
       "Name: Legendary, dtype: float64"
      ]
     },
     "execution_count": 161,
     "metadata": {},
     "output_type": "execute_result"
    }
   ],
   "source": [
    "legendary_corr = correlation.loc['Legendary'].drop('Legendary')\n",
    "sorted_corr = legendary_corr.sort_values(ascending=False)\n",
    "sorted_corr"
   ]
  },
  {
   "cell_type": "markdown",
   "id": "77042e0d",
   "metadata": {},
   "source": [
    "Однако, корреляция не равна причинности, она показывает взаимосвязь, но не гарантирует, что именна такая степень влияния делает покемона легендарным."
   ]
  },
  {
   "cell_type": "markdown",
   "id": "3b3711a1",
   "metadata": {},
   "source": [
    "Для исследования причинности воспользуемся методом логистической регрессии."
   ]
  },
  {
   "cell_type": "code",
   "execution_count": 162,
   "id": "dd0e465a",
   "metadata": {},
   "outputs": [],
   "source": [
    "from sklearn.linear_model import LogisticRegression\n",
    "from sklearn.preprocessing import StandardScaler\n",
    "from sklearn.model_selection import train_test_split"
   ]
  },
  {
   "cell_type": "code",
   "execution_count": 163,
   "id": "32fe5467",
   "metadata": {},
   "outputs": [
    {
     "name": "stdout",
     "output_type": "stream",
     "text": [
      "      Feature  Coefficient\n",
      "6       Speed     1.208472\n",
      "0       Total     1.183706\n",
      "5     Sp. Def     0.946550\n",
      "4     Sp. Atk     0.938011\n",
      "3     Defense     0.816424\n",
      "8  Generation     0.732721\n",
      "1          HP     0.629154\n",
      "2      Attack     0.271648\n",
      "7        Dual    -0.364190 \n",
      "\n",
      "Test Accuracy: 0.95625\n"
     ]
    }
   ],
   "source": [
    "# Подготовка данных\n",
    "X = check_corr[['Total', 'HP', 'Attack', 'Defense', 'Sp. Atk', 'Sp. Def', 'Speed', 'Dual', 'Generation']]\n",
    "y = check_corr['Legendary']\n",
    "\n",
    "# Разделение на обучающую и тестовую выборку\n",
    "X_train, X_test, y_train, y_test = train_test_split(X, y, test_size=0.2, random_state=42)\n",
    "\n",
    "# Инициализация и обучение \n",
    "scaler = StandardScaler()\n",
    "X_train_scaled = scaler.fit_transform(X_train)\n",
    "X_test_scaled = scaler.transform(X_test)\n",
    "\n",
    "model = LogisticRegression()\n",
    "model.fit(X_train_scaled, y_train)\n",
    "\n",
    "importances = model.coef_[0]\n",
    "\n",
    "#Создадим DataFrame для сортировки и демонстрации\n",
    "importance_df = pd.DataFrame({\n",
    "    'Feature': X.columns,\n",
    "    'Coefficient': importances\n",
    "})\n",
    "importance_df_sorted = importance_df.sort_values(by='Coefficient', ascending=False)\n",
    "\n",
    "print(importance_df_sorted, '\\n')\n",
    "test_score = model.score(X_test_scaled, y_test)\n",
    "print(f'Test Accuracy: {test_score}')"
   ]
  },
  {
   "cell_type": "markdown",
   "id": "d78a189f",
   "metadata": {},
   "source": [
    "Коэффициенты логистической регрессии дают нам количественное представление о том, как каждая переменная влияет на вероятность того, что покемон является легендарным. Эти коэффициенты позволят нам понять значимость каждого параметра и его влияние на классификацию покемона."
   ]
  },
  {
   "cell_type": "code",
   "execution_count": 164,
   "id": "0026543c",
   "metadata": {},
   "outputs": [
    {
     "data": {
      "text/plain": [
       "Text(0, 0.5, 'Feature')"
      ]
     },
     "execution_count": 164,
     "metadata": {},
     "output_type": "execute_result"
    },
    {
     "data": {
      "image/png": "[encoded data removed]",
      "text/plain": [
       "<Figure size 500x400 with 1 Axes>"
      ]
     },
     "metadata": {},
     "output_type": "display_data"
    }
   ],
   "source": [
    "plt.figure(figsize=(5, 4))\n",
    "sns.barplot(x='Coefficient', y='Feature', data=importance_df_sorted, palette='viridis', hue='Feature', dodge=False)\n",
    "plt.title('Feature Importance in Predicting Legendary Pokemon')\n",
    "plt.xlabel('Coefficient Value')\n",
    "plt.ylabel('Feature')"
   ]
  },
  {
   "cell_type": "markdown",
   "id": "b6ac54b0",
   "metadata": {},
   "source": [
    "**Наглядно получили степень влияния параметров на причинность легендарных покемонов.** "
   ]
  }
 ],
 "metadata": {
  "kernelspec": {
   "display_name": "Python 3",
   "language": "python",
   "name": "python3"
  },
  "language_info": {
   "codemirror_mode": {
    "name": "ipython",
    "version": 3
   },
   "file_extension": ".py",
   "mimetype": "text/x-python",
   "name": "python",
   "nbconvert_exporter": "python",
   "pygments_lexer": "ipython3",
   "version": "3.10.12"
  }
 },
 "nbformat": 4,
 "nbformat_minor": 5
}
